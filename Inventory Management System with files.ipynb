{
 "cells": [
  {
   "cell_type": "markdown",
   "id": "2eb24c2e-7f12-4494-8c96-e7f16ec82919",
   "metadata": {},
   "source": [
    "#PRODUCT DETAILS\n",
    "\n",
    "1. Product ID\n",
    "2. Product Name\n",
    "3. Price\n",
    "4. Quantity in inventory"
   ]
  },
  {
   "cell_type": "code",
   "execution_count": 8,
   "id": "8b2fe8a9-e112-4591-83f1-daa0a2d7cd21",
   "metadata": {},
   "outputs": [
    {
     "name": "stdout",
     "output_type": "stream",
     "text": [
      "4\n"
     ]
    }
   ],
   "source": [
    "#NO OF PRODUCTS\n",
    "products=txt.split('\\n')\n",
    "print(len(products))"
   ]
  },
  {
   "cell_type": "code",
   "execution_count": 10,
   "id": "d21dbe73-efe7-44a3-87c8-617083f4fde5",
   "metadata": {},
   "outputs": [
    {
     "name": "stdout",
     "output_type": "stream",
     "text": [
      "1, 5 Star, 5,97\n",
      "2, Milky Bar, 5,97\n",
      "3, Cake, 300,5\n",
      "4, Candy, 1, 200\n"
     ]
    }
   ],
   "source": [
    "for i in products:\n",
    "    print(i)"
   ]
  },
  {
   "cell_type": "code",
   "execution_count": 28,
   "id": "ce66f1e2-a204-40f5-bc20-c64e72fc07ad",
   "metadata": {},
   "outputs": [
    {
     "name": "stdin",
     "output_type": "stream",
     "text": [
      "Enter your name:  Anu\n",
      "Enter your phone no.:  9878\n",
      "Enter your email:  gddj\n",
      "Enter product ID:  1\n",
      "Enter product quantity:  100\n"
     ]
    },
    {
     "name": "stdout",
     "output_type": "stream",
     "text": [
      "Sorry we dont have enough quantity.\n",
      "We have only  70  quantity\n",
      "Would you like to purchase it?\n"
     ]
    },
    {
     "name": "stdin",
     "output_type": "stream",
     "text": [
      "Input Y/N y\n"
     ]
    },
    {
     "name": "stdout",
     "output_type": "stream",
     "text": [
      "-----------------------------------------\n",
      "Product Name:   5 Star\n",
      "Price       :   5\n",
      "Quantity Avail:  70\n",
      "-----------------------------------------\n",
      "Billing Amount:  350\n",
      "-----------------------------------------\n",
      "-----------------------------------------\n",
      "Inventory Updated\n"
     ]
    }
   ],
   "source": [
    "#Noting time of transaction\n",
    "import time\n",
    "\n",
    "#Reading the inventory\n",
    "fd= open(\"Inventory.txt\",'r')\n",
    "txt=fd.read()\n",
    "fd.close()\n",
    "\n",
    "products=txt.split('\\n')\n",
    "\n",
    "#Taking user input\n",
    "ui_username=input(\"Enter your name: \")\n",
    "ui_phone   =input(\"Enter your phone no.: \")\n",
    "ui_mail    =input(\"Enter your email: \")\n",
    "ui_prod_id =input(\"Enter product ID: \")\n",
    "ui_prod_qn =input(\"Enter product quantity: \")\n",
    "\n",
    "updated_product_lst=[]\n",
    "\n",
    "#Going thru each product detail\n",
    "for product in products:\n",
    "    prod_details=product.split(\",\")\n",
    "    \n",
    "    #Checking if product exists or not\n",
    "    if(prod_details[0]==ui_prod_id):\n",
    "        \n",
    "        #Checking if we're have enough quantity\n",
    "        if(int(ui_prod_qn)<=int(prod_details[3])):\n",
    "\n",
    "            #If we have enough quantity\n",
    "            print(\"-----------------------------------------\")\n",
    "            print(\"Product Name: \",prod_details[1])\n",
    "            print(\"Price       : \",prod_details[2])\n",
    "            print(\"Quantity Req: \",ui_prod_qn)\n",
    "            print(\"-----------------------------------------\")\n",
    "            print(\"Billing Amount: \",int(ui_prod_qn)*int(prod_details[2]))\n",
    "            print(\"-----------------------------------------\")\n",
    "\n",
    "            #Updating my Inventory list\n",
    "            prod_details[3]=str( int(prod_details[3]) - int(ui_prod_qn) )  \n",
    "\n",
    "            #Saving sales in Sales.txt\n",
    "            fd=open(\"Sales.txt\",\"a\")\n",
    "            sales_detail=ui_username +\",\"+ ui_phone +\",\"+ ui_mail +\",\"+ prod_details[1] +\",\"+ ui_prod_id +\",\"+ ui_prod_qn +\",\"+ str(int(ui_prod_qn)*int(prod_details[2])) +\",\"+ time.ctime() +\"\\n\"\n",
    "            fd.write(sales_detail)\n",
    "            fd.close()\n",
    "\n",
    "        #If we DONT have enough quantity\n",
    "        else:\n",
    "            \n",
    "            print(\"Sorry we dont have enough quantity.\")\n",
    "            print(\"We have only \",prod_details[3],\" quantity\")\n",
    "            print(\"Would you like to purchase it?\")\n",
    "\n",
    "            ch=input(\"Input Y/N\")\n",
    "\n",
    "            if(ch==\"Y\" or ch==\"y\"):\n",
    "                #If user wants to purchase remaining quantity\n",
    "                print(\"-----------------------------------------\")\n",
    "                print(\"Product Name: \",prod_details[1])\n",
    "                print(\"Price       : \",prod_details[2])\n",
    "                print(\"Quantity Avail: \",prod_details[3])\n",
    "                print(\"-----------------------------------------\")\n",
    "                print(\"Billing Amount: \",int(prod_details[3])*int(prod_details[2]))\n",
    "                print(\"-----------------------------------------\")\n",
    "\n",
    "                #Saving sales in Sales.txt\n",
    "                fd=open(\"Sales.txt\",\"a\")\n",
    "                sales_detail=ui_username +\",\"+ ui_phone +\",\"+ ui_mail +\",\"+ prod_details[1] +\",\"+ ui_prod_id +\",\"+ prod_details[3] +\",\"+ str(int(prod_details[3])*int(prod_details[2])) +\",\"+ time.ctime() +\"\\n\"\n",
    "                fd.write(sales_detail) \n",
    "                fd.close()\n",
    "\n",
    "                #Updating Inventory list\n",
    "                prod_details[3]='0'\n",
    "\n",
    "            else:\n",
    "                print(\"Thanks\")\n",
    "\n",
    "    #Updating my Inventory list\n",
    "    updated_product_lst.append(prod_details)\n",
    "\n",
    "lst=[]\n",
    "\n",
    "#Converting my list to string\n",
    "for i in updated_product_lst:\n",
    "    prod=i[0] +\",\"+ i[1] +\",\"+ i[2] +\",\"+ i[3] +\"\\n\"\n",
    "    lst.append(prod)\n",
    "\n",
    "#Removing last \\n from list\n",
    "lst[-1]=lst[-1][:-1] \n",
    "\n",
    "#Updating my Inventory File\n",
    "fd= open(\"Inventory.txt\",\"w\")\n",
    "for i in lst:\n",
    "    fd.write(i)\n",
    "fd.close()\n",
    "\n",
    "print(\"-----------------------------------------\")\n",
    "print(\"Inventory Updated\")"
   ]
  },
  {
   "cell_type": "code",
   "execution_count": 22,
   "id": "492af81f-c5a2-4e39-83ef-1f9f84d4cce2",
   "metadata": {},
   "outputs": [
    {
     "name": "stdout",
     "output_type": "stream",
     "text": [
      "1, 5 Star, 5,70\n",
      "2, Milky Bar, 5,200\n",
      "3, Cake, 300,0\n",
      "4, Candy, 1,200\n"
     ]
    }
   ],
   "source": [
    "for i in updated_product_lst:\n",
    "    prod=i[0] +\",\"+ i[1] +\",\"+ i[2] +\",\"+ i[3]\n",
    "    print(prod)"
   ]
  },
  {
   "cell_type": "code",
   "execution_count": 34,
   "id": "7f6a5fcd-4fca-4ed1-9411-5bc3eb182d55",
   "metadata": {},
   "outputs": [],
   "source": []
  },
  {
   "cell_type": "code",
   "execution_count": null,
   "id": "90eca290-fa60-4760-9731-1964eb4a9b47",
   "metadata": {},
   "outputs": [],
   "source": []
  }
 ],
 "metadata": {
  "kernelspec": {
   "display_name": "Python 3 (ipykernel)",
   "language": "python",
   "name": "python3"
  },
  "language_info": {
   "codemirror_mode": {
    "name": "ipython",
    "version": 3
   },
   "file_extension": ".py",
   "mimetype": "text/x-python",
   "name": "python",
   "nbconvert_exporter": "python",
   "pygments_lexer": "ipython3",
   "version": "3.12.7"
  }
 },
 "nbformat": 4,
 "nbformat_minor": 5
}
